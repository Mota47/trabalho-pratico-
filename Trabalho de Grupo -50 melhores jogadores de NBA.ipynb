{
 "cells": [
  {
   "cell_type": "markdown",
   "id": "44f14a9e",
   "metadata": {},
   "source": [
    "# 50 melhores jogadores de NBA\n",
    "### Trabalho de Grupo\n",
    "\n",
    "Docente: João Orvalho\n",
    "\n",
    "Discentes: \n",
    " Flávia Pereira; \n",
    " Pedro Mota"
   ]
  },
  {
   "cell_type": "markdown",
   "id": "adeb45d9",
   "metadata": {},
   "source": [
    "#### Proposta de Trabalho:\n",
    "Para esta proposta, em grupo decidimos avaliar a taxa de mortalidade infantil desde 2001 até 2021.\n",
    "A razão pela qual escolhemos este tema para o trabalho, deve-se ao facto de ser um tema pouco abordado e acharmos necessário dar a conhecer mais sobre os dados."
   ]
  },
  {
   "cell_type": "code",
   "execution_count": 4,
   "id": "849a12be",
   "metadata": {},
   "outputs": [],
   "source": [
    "import pandas as pd             \n",
    "import numpy as np               \n"
   ]
  },
  {
   "cell_type": "code",
   "execution_count": 5,
   "id": "98bbcfe6",
   "metadata": {},
   "outputs": [],
   "source": [
    "import matplotlib.pyplot as plt"
   ]
  },
  {
   "cell_type": "code",
   "execution_count": 6,
   "id": "b43beb87",
   "metadata": {
    "scrolled": true
   },
   "outputs": [],
   "source": [
    "df = pd.read_csv('Melhores jogadores NBA.csv')\n"
   ]
  },
  {
   "cell_type": "code",
   "execution_count": 7,
   "id": "aae8bf92",
   "metadata": {
    "scrolled": true
   },
   "outputs": [
    {
     "name": "stdout",
     "output_type": "stream",
     "text": [
      "<class 'pandas.core.frame.DataFrame'>\n",
      "RangeIndex: 50 entries, 0 to 49\n",
      "Data columns (total 12 columns):\n",
      " #   Column      Non-Null Count  Dtype  \n",
      "---  ------      --------------  -----  \n",
      " 0   Player      50 non-null     int64  \n",
      " 1   Unnamed: 1  50 non-null     object \n",
      " 2   Team        50 non-null     object \n",
      " 3   GP          50 non-null     int64  \n",
      " 4   MPG         50 non-null     float64\n",
      " 5   PPG         50 non-null     float64\n",
      " 6   TP          50 non-null     int64  \n",
      " 7   FGM         50 non-null     int64  \n",
      " 8   FG%         50 non-null     float64\n",
      " 9   3PM         50 non-null     int64  \n",
      " 10  TO          50 non-null     int64  \n",
      " 11  PF          50 non-null     int64  \n",
      "dtypes: float64(3), int64(7), object(2)\n",
      "memory usage: 4.8+ KB\n"
     ]
    }
   ],
   "source": [
    "df.info()"
   ]
  },
  {
   "cell_type": "code",
   "execution_count": 8,
   "id": "4629b821",
   "metadata": {},
   "outputs": [
    {
     "data": {
      "text/html": [
       "<div>\n",
       "<style scoped>\n",
       "    .dataframe tbody tr th:only-of-type {\n",
       "        vertical-align: middle;\n",
       "    }\n",
       "\n",
       "    .dataframe tbody tr th {\n",
       "        vertical-align: top;\n",
       "    }\n",
       "\n",
       "    .dataframe thead th {\n",
       "        text-align: right;\n",
       "    }\n",
       "</style>\n",
       "<table border=\"1\" class=\"dataframe\">\n",
       "  <thead>\n",
       "    <tr style=\"text-align: right;\">\n",
       "      <th></th>\n",
       "      <th>Player</th>\n",
       "      <th>Unnamed: 1</th>\n",
       "      <th>Team</th>\n",
       "      <th>GP</th>\n",
       "      <th>MPG</th>\n",
       "      <th>PPG</th>\n",
       "      <th>TP</th>\n",
       "      <th>FGM</th>\n",
       "      <th>FG%</th>\n",
       "      <th>3PM</th>\n",
       "      <th>TO</th>\n",
       "      <th>PF</th>\n",
       "    </tr>\n",
       "  </thead>\n",
       "  <tbody>\n",
       "    <tr>\n",
       "      <th>0</th>\n",
       "      <td>1</td>\n",
       "      <td>Joel Embiid</td>\n",
       "      <td>76ers</td>\n",
       "      <td>68</td>\n",
       "      <td>33.8</td>\n",
       "      <td>30.6</td>\n",
       "      <td>2079</td>\n",
       "      <td>666</td>\n",
       "      <td>49.9</td>\n",
       "      <td>93</td>\n",
       "      <td>214</td>\n",
       "      <td>181</td>\n",
       "    </tr>\n",
       "    <tr>\n",
       "      <th>1</th>\n",
       "      <td>2</td>\n",
       "      <td>LeBron James</td>\n",
       "      <td>Lakers</td>\n",
       "      <td>56</td>\n",
       "      <td>37.2</td>\n",
       "      <td>30.3</td>\n",
       "      <td>1695</td>\n",
       "      <td>640</td>\n",
       "      <td>52.4</td>\n",
       "      <td>161</td>\n",
       "      <td>196</td>\n",
       "      <td>121</td>\n",
       "    </tr>\n",
       "    <tr>\n",
       "      <th>2</th>\n",
       "      <td>3</td>\n",
       "      <td>Giannis Antetokounmpo</td>\n",
       "      <td>Bucks</td>\n",
       "      <td>67</td>\n",
       "      <td>32.9</td>\n",
       "      <td>29.9</td>\n",
       "      <td>2002</td>\n",
       "      <td>689</td>\n",
       "      <td>55.3</td>\n",
       "      <td>71</td>\n",
       "      <td>219</td>\n",
       "      <td>212</td>\n",
       "    </tr>\n",
       "    <tr>\n",
       "      <th>3</th>\n",
       "      <td>4</td>\n",
       "      <td>Kevin Durant</td>\n",
       "      <td>NETS</td>\n",
       "      <td>55</td>\n",
       "      <td>37.2</td>\n",
       "      <td>29.9</td>\n",
       "      <td>1643</td>\n",
       "      <td>578</td>\n",
       "      <td>51.8</td>\n",
       "      <td>115</td>\n",
       "      <td>191</td>\n",
       "      <td>113</td>\n",
       "    </tr>\n",
       "    <tr>\n",
       "      <th>4</th>\n",
       "      <td>5</td>\n",
       "      <td>Luka Doncic</td>\n",
       "      <td>Dallas</td>\n",
       "      <td>65</td>\n",
       "      <td>35.4</td>\n",
       "      <td>28.4</td>\n",
       "      <td>1847</td>\n",
       "      <td>641</td>\n",
       "      <td>45.7</td>\n",
       "      <td>201</td>\n",
       "      <td>292</td>\n",
       "      <td>145</td>\n",
       "    </tr>\n",
       "  </tbody>\n",
       "</table>\n",
       "</div>"
      ],
      "text/plain": [
       "   Player             Unnamed: 1    Team  GP   MPG   PPG    TP  FGM   FG%  \\\n",
       "0       1            Joel Embiid   76ers  68  33.8  30.6  2079  666  49.9   \n",
       "1       2           LeBron James  Lakers  56  37.2  30.3  1695  640  52.4   \n",
       "2       3  Giannis Antetokounmpo   Bucks  67  32.9  29.9  2002  689  55.3   \n",
       "3       4           Kevin Durant    NETS  55  37.2  29.9  1643  578  51.8   \n",
       "4       5            Luka Doncic  Dallas  65  35.4  28.4  1847  641  45.7   \n",
       "\n",
       "   3PM   TO   PF  \n",
       "0   93  214  181  \n",
       "1  161  196  121  \n",
       "2   71  219  212  \n",
       "3  115  191  113  \n",
       "4  201  292  145  "
      ]
     },
     "execution_count": 8,
     "metadata": {},
     "output_type": "execute_result"
    }
   ],
   "source": [
    "df.head()"
   ]
  },
  {
   "cell_type": "code",
   "execution_count": 9,
   "id": "5552962e",
   "metadata": {},
   "outputs": [],
   "source": [
    "df = df.drop(columns=['FG%', 'PF'])"
   ]
  },
  {
   "cell_type": "code",
   "execution_count": 10,
   "id": "d21d51aa",
   "metadata": {
    "scrolled": true
   },
   "outputs": [
    {
     "data": {
      "text/html": [
       "<div>\n",
       "<style scoped>\n",
       "    .dataframe tbody tr th:only-of-type {\n",
       "        vertical-align: middle;\n",
       "    }\n",
       "\n",
       "    .dataframe tbody tr th {\n",
       "        vertical-align: top;\n",
       "    }\n",
       "\n",
       "    .dataframe thead th {\n",
       "        text-align: right;\n",
       "    }\n",
       "</style>\n",
       "<table border=\"1\" class=\"dataframe\">\n",
       "  <thead>\n",
       "    <tr style=\"text-align: right;\">\n",
       "      <th></th>\n",
       "      <th>Player</th>\n",
       "      <th>Unnamed: 1</th>\n",
       "      <th>Team</th>\n",
       "      <th>GP</th>\n",
       "      <th>MPG</th>\n",
       "      <th>PPG</th>\n",
       "      <th>TP</th>\n",
       "      <th>FGM</th>\n",
       "      <th>3PM</th>\n",
       "      <th>TO</th>\n",
       "    </tr>\n",
       "  </thead>\n",
       "  <tbody>\n",
       "    <tr>\n",
       "      <th>0</th>\n",
       "      <td>1</td>\n",
       "      <td>Joel Embiid</td>\n",
       "      <td>76ers</td>\n",
       "      <td>68</td>\n",
       "      <td>33.8</td>\n",
       "      <td>30.6</td>\n",
       "      <td>2079</td>\n",
       "      <td>666</td>\n",
       "      <td>93</td>\n",
       "      <td>214</td>\n",
       "    </tr>\n",
       "    <tr>\n",
       "      <th>1</th>\n",
       "      <td>2</td>\n",
       "      <td>LeBron James</td>\n",
       "      <td>Lakers</td>\n",
       "      <td>56</td>\n",
       "      <td>37.2</td>\n",
       "      <td>30.3</td>\n",
       "      <td>1695</td>\n",
       "      <td>640</td>\n",
       "      <td>161</td>\n",
       "      <td>196</td>\n",
       "    </tr>\n",
       "    <tr>\n",
       "      <th>2</th>\n",
       "      <td>3</td>\n",
       "      <td>Giannis Antetokounmpo</td>\n",
       "      <td>Bucks</td>\n",
       "      <td>67</td>\n",
       "      <td>32.9</td>\n",
       "      <td>29.9</td>\n",
       "      <td>2002</td>\n",
       "      <td>689</td>\n",
       "      <td>71</td>\n",
       "      <td>219</td>\n",
       "    </tr>\n",
       "    <tr>\n",
       "      <th>3</th>\n",
       "      <td>4</td>\n",
       "      <td>Kevin Durant</td>\n",
       "      <td>NETS</td>\n",
       "      <td>55</td>\n",
       "      <td>37.2</td>\n",
       "      <td>29.9</td>\n",
       "      <td>1643</td>\n",
       "      <td>578</td>\n",
       "      <td>115</td>\n",
       "      <td>191</td>\n",
       "    </tr>\n",
       "    <tr>\n",
       "      <th>4</th>\n",
       "      <td>5</td>\n",
       "      <td>Luka Doncic</td>\n",
       "      <td>Dallas</td>\n",
       "      <td>65</td>\n",
       "      <td>35.4</td>\n",
       "      <td>28.4</td>\n",
       "      <td>1847</td>\n",
       "      <td>641</td>\n",
       "      <td>201</td>\n",
       "      <td>292</td>\n",
       "    </tr>\n",
       "  </tbody>\n",
       "</table>\n",
       "</div>"
      ],
      "text/plain": [
       "   Player             Unnamed: 1    Team  GP   MPG   PPG    TP  FGM  3PM   TO\n",
       "0       1            Joel Embiid   76ers  68  33.8  30.6  2079  666   93  214\n",
       "1       2           LeBron James  Lakers  56  37.2  30.3  1695  640  161  196\n",
       "2       3  Giannis Antetokounmpo   Bucks  67  32.9  29.9  2002  689   71  219\n",
       "3       4           Kevin Durant    NETS  55  37.2  29.9  1643  578  115  191\n",
       "4       5            Luka Doncic  Dallas  65  35.4  28.4  1847  641  201  292"
      ]
     },
     "execution_count": 10,
     "metadata": {},
     "output_type": "execute_result"
    }
   ],
   "source": [
    "df.head()"
   ]
  },
  {
   "cell_type": "code",
   "execution_count": 11,
   "id": "66a3e16c",
   "metadata": {
    "scrolled": true
   },
   "outputs": [
    {
     "data": {
      "text/html": [
       "<div>\n",
       "<style scoped>\n",
       "    .dataframe tbody tr th:only-of-type {\n",
       "        vertical-align: middle;\n",
       "    }\n",
       "\n",
       "    .dataframe tbody tr th {\n",
       "        vertical-align: top;\n",
       "    }\n",
       "\n",
       "    .dataframe thead th {\n",
       "        text-align: right;\n",
       "    }\n",
       "</style>\n",
       "<table border=\"1\" class=\"dataframe\">\n",
       "  <thead>\n",
       "    <tr style=\"text-align: right;\">\n",
       "      <th></th>\n",
       "      <th>Posição</th>\n",
       "      <th>Jogador</th>\n",
       "      <th>Equipa</th>\n",
       "      <th>Partidas jogadas</th>\n",
       "      <th>Minutos por jogo</th>\n",
       "      <th>Pontos por jogo</th>\n",
       "      <th>Pontos totais</th>\n",
       "      <th>Cesta de Campo</th>\n",
       "      <th>Arremessos de 3 pontos convertidos</th>\n",
       "      <th>Turn overs</th>\n",
       "    </tr>\n",
       "  </thead>\n",
       "  <tbody>\n",
       "    <tr>\n",
       "      <th>0</th>\n",
       "      <td>1</td>\n",
       "      <td>Joel Embiid</td>\n",
       "      <td>76ers</td>\n",
       "      <td>68</td>\n",
       "      <td>33.8</td>\n",
       "      <td>30.6</td>\n",
       "      <td>2079</td>\n",
       "      <td>666</td>\n",
       "      <td>93</td>\n",
       "      <td>214</td>\n",
       "    </tr>\n",
       "    <tr>\n",
       "      <th>1</th>\n",
       "      <td>2</td>\n",
       "      <td>LeBron James</td>\n",
       "      <td>Lakers</td>\n",
       "      <td>56</td>\n",
       "      <td>37.2</td>\n",
       "      <td>30.3</td>\n",
       "      <td>1695</td>\n",
       "      <td>640</td>\n",
       "      <td>161</td>\n",
       "      <td>196</td>\n",
       "    </tr>\n",
       "    <tr>\n",
       "      <th>2</th>\n",
       "      <td>3</td>\n",
       "      <td>Giannis Antetokounmpo</td>\n",
       "      <td>Bucks</td>\n",
       "      <td>67</td>\n",
       "      <td>32.9</td>\n",
       "      <td>29.9</td>\n",
       "      <td>2002</td>\n",
       "      <td>689</td>\n",
       "      <td>71</td>\n",
       "      <td>219</td>\n",
       "    </tr>\n",
       "    <tr>\n",
       "      <th>3</th>\n",
       "      <td>4</td>\n",
       "      <td>Kevin Durant</td>\n",
       "      <td>NETS</td>\n",
       "      <td>55</td>\n",
       "      <td>37.2</td>\n",
       "      <td>29.9</td>\n",
       "      <td>1643</td>\n",
       "      <td>578</td>\n",
       "      <td>115</td>\n",
       "      <td>191</td>\n",
       "    </tr>\n",
       "    <tr>\n",
       "      <th>4</th>\n",
       "      <td>5</td>\n",
       "      <td>Luka Doncic</td>\n",
       "      <td>Dallas</td>\n",
       "      <td>65</td>\n",
       "      <td>35.4</td>\n",
       "      <td>28.4</td>\n",
       "      <td>1847</td>\n",
       "      <td>641</td>\n",
       "      <td>201</td>\n",
       "      <td>292</td>\n",
       "    </tr>\n",
       "  </tbody>\n",
       "</table>\n",
       "</div>"
      ],
      "text/plain": [
       "   Posição                Jogador  Equipa  Partidas jogadas  Minutos por jogo  \\\n",
       "0        1            Joel Embiid   76ers                68              33.8   \n",
       "1        2           LeBron James  Lakers                56              37.2   \n",
       "2        3  Giannis Antetokounmpo   Bucks                67              32.9   \n",
       "3        4           Kevin Durant    NETS                55              37.2   \n",
       "4        5            Luka Doncic  Dallas                65              35.4   \n",
       "\n",
       "   Pontos por jogo  Pontos totais  Cesta de Campo  \\\n",
       "0             30.6           2079             666   \n",
       "1             30.3           1695             640   \n",
       "2             29.9           2002             689   \n",
       "3             29.9           1643             578   \n",
       "4             28.4           1847             641   \n",
       "\n",
       "   Arremessos de 3 pontos convertidos  Turn overs  \n",
       "0                                  93         214  \n",
       "1                                 161         196  \n",
       "2                                  71         219  \n",
       "3                                 115         191  \n",
       "4                                 201         292  "
      ]
     },
     "execution_count": 11,
     "metadata": {},
     "output_type": "execute_result"
    }
   ],
   "source": [
    "#renomeando as colunas para tornar mais fácil o estudo desta\n",
    "df.columns = ['Posição' ,'Jogador', 'Equipa', 'Partidas jogadas', 'Minutos por jogo', 'Pontos por jogo', 'Pontos totais', 'Cesta de Campo', 'Arremessos de 3 pontos convertidos', 'Turn overs']\n",
    "df.head()"
   ]
  },
  {
   "cell_type": "code",
   "execution_count": 12,
   "id": "ca07405d",
   "metadata": {},
   "outputs": [
    {
     "data": {
      "text/html": [
       "<div>\n",
       "<style scoped>\n",
       "    .dataframe tbody tr th:only-of-type {\n",
       "        vertical-align: middle;\n",
       "    }\n",
       "\n",
       "    .dataframe tbody tr th {\n",
       "        vertical-align: top;\n",
       "    }\n",
       "\n",
       "    .dataframe thead th {\n",
       "        text-align: right;\n",
       "    }\n",
       "</style>\n",
       "<table border=\"1\" class=\"dataframe\">\n",
       "  <thead>\n",
       "    <tr style=\"text-align: right;\">\n",
       "      <th></th>\n",
       "      <th>Posição</th>\n",
       "      <th>Partidas jogadas</th>\n",
       "      <th>Minutos por jogo</th>\n",
       "      <th>Pontos por jogo</th>\n",
       "      <th>Pontos totais</th>\n",
       "      <th>Cesta de Campo</th>\n",
       "      <th>Arremessos de 3 pontos convertidos</th>\n",
       "      <th>Turn overs</th>\n",
       "    </tr>\n",
       "  </thead>\n",
       "  <tbody>\n",
       "    <tr>\n",
       "      <th>count</th>\n",
       "      <td>50.00000</td>\n",
       "      <td>50.000000</td>\n",
       "      <td>50.000000</td>\n",
       "      <td>50.000000</td>\n",
       "      <td>50.000000</td>\n",
       "      <td>50.000000</td>\n",
       "      <td>50.00000</td>\n",
       "      <td>50.000000</td>\n",
       "    </tr>\n",
       "    <tr>\n",
       "      <th>mean</th>\n",
       "      <td>25.50000</td>\n",
       "      <td>60.540000</td>\n",
       "      <td>34.226000</td>\n",
       "      <td>23.058000</td>\n",
       "      <td>1398.480000</td>\n",
       "      <td>498.080000</td>\n",
       "      <td>130.34000</td>\n",
       "      <td>169.200000</td>\n",
       "    </tr>\n",
       "    <tr>\n",
       "      <th>std</th>\n",
       "      <td>14.57738</td>\n",
       "      <td>14.271722</td>\n",
       "      <td>2.156037</td>\n",
       "      <td>3.656869</td>\n",
       "      <td>407.849974</td>\n",
       "      <td>144.829082</td>\n",
       "      <td>68.60791</td>\n",
       "      <td>67.020862</td>\n",
       "    </tr>\n",
       "    <tr>\n",
       "      <th>min</th>\n",
       "      <td>1.00000</td>\n",
       "      <td>29.000000</td>\n",
       "      <td>27.700000</td>\n",
       "      <td>18.300000</td>\n",
       "      <td>590.000000</td>\n",
       "      <td>222.000000</td>\n",
       "      <td>0.00000</td>\n",
       "      <td>43.000000</td>\n",
       "    </tr>\n",
       "    <tr>\n",
       "      <th>25%</th>\n",
       "      <td>13.25000</td>\n",
       "      <td>55.250000</td>\n",
       "      <td>33.500000</td>\n",
       "      <td>20.100000</td>\n",
       "      <td>1183.000000</td>\n",
       "      <td>406.250000</td>\n",
       "      <td>78.25000</td>\n",
       "      <td>126.250000</td>\n",
       "    </tr>\n",
       "    <tr>\n",
       "      <th>50%</th>\n",
       "      <td>25.50000</td>\n",
       "      <td>65.500000</td>\n",
       "      <td>34.500000</td>\n",
       "      <td>22.400000</td>\n",
       "      <td>1420.000000</td>\n",
       "      <td>517.000000</td>\n",
       "      <td>114.50000</td>\n",
       "      <td>176.000000</td>\n",
       "    </tr>\n",
       "    <tr>\n",
       "      <th>75%</th>\n",
       "      <td>37.75000</td>\n",
       "      <td>70.000000</td>\n",
       "      <td>35.375000</td>\n",
       "      <td>25.800000</td>\n",
       "      <td>1633.750000</td>\n",
       "      <td>592.000000</td>\n",
       "      <td>182.75000</td>\n",
       "      <td>204.500000</td>\n",
       "    </tr>\n",
       "    <tr>\n",
       "      <th>max</th>\n",
       "      <td>50.00000</td>\n",
       "      <td>80.000000</td>\n",
       "      <td>37.900000</td>\n",
       "      <td>30.600000</td>\n",
       "      <td>2155.000000</td>\n",
       "      <td>774.000000</td>\n",
       "      <td>285.00000</td>\n",
       "      <td>303.000000</td>\n",
       "    </tr>\n",
       "  </tbody>\n",
       "</table>\n",
       "</div>"
      ],
      "text/plain": [
       "        Posição  Partidas jogadas  Minutos por jogo  Pontos por jogo  \\\n",
       "count  50.00000         50.000000         50.000000        50.000000   \n",
       "mean   25.50000         60.540000         34.226000        23.058000   \n",
       "std    14.57738         14.271722          2.156037         3.656869   \n",
       "min     1.00000         29.000000         27.700000        18.300000   \n",
       "25%    13.25000         55.250000         33.500000        20.100000   \n",
       "50%    25.50000         65.500000         34.500000        22.400000   \n",
       "75%    37.75000         70.000000         35.375000        25.800000   \n",
       "max    50.00000         80.000000         37.900000        30.600000   \n",
       "\n",
       "       Pontos totais  Cesta de Campo  Arremessos de 3 pontos convertidos  \\\n",
       "count      50.000000       50.000000                            50.00000   \n",
       "mean     1398.480000      498.080000                           130.34000   \n",
       "std       407.849974      144.829082                            68.60791   \n",
       "min       590.000000      222.000000                             0.00000   \n",
       "25%      1183.000000      406.250000                            78.25000   \n",
       "50%      1420.000000      517.000000                           114.50000   \n",
       "75%      1633.750000      592.000000                           182.75000   \n",
       "max      2155.000000      774.000000                           285.00000   \n",
       "\n",
       "       Turn overs  \n",
       "count   50.000000  \n",
       "mean   169.200000  \n",
       "std     67.020862  \n",
       "min     43.000000  \n",
       "25%    126.250000  \n",
       "50%    176.000000  \n",
       "75%    204.500000  \n",
       "max    303.000000  "
      ]
     },
     "execution_count": 12,
     "metadata": {},
     "output_type": "execute_result"
    }
   ],
   "source": [
    "df.describe()"
   ]
  },
  {
   "cell_type": "code",
   "execution_count": 13,
   "id": "bd2d3989",
   "metadata": {},
   "outputs": [
    {
     "data": {
      "text/plain": [
       "Warriors        4\n",
       "Miami           3\n",
       "Lakers          3\n",
       "Bulls           3\n",
       "76ers           2\n",
       "Pelicans        2\n",
       "Kings           2\n",
       "Clippers        2\n",
       "Timberwolves    2\n",
       "Hornets         2\n",
       "Celtics         2\n",
       "Knicks          2\n",
       "Grizzlies       2\n",
       "Dallas          2\n",
       "NETS            2\n",
       "Bucks           2\n",
       "Raptors         2\n",
       "Spurs           1\n",
       "Pistons         1\n",
       "Cavaliers       1\n",
       "Okc             1\n",
       "Wizards         1\n",
       "Portland        1\n",
       "Jazz            1\n",
       "Suns            1\n",
       "Nuggets         1\n",
       "Atlanta         1\n",
       "Pacers          1\n",
       "Name: Equipa, dtype: int64"
      ]
     },
     "execution_count": 13,
     "metadata": {},
     "output_type": "execute_result"
    }
   ],
   "source": [
    "df['Equipa'].value_counts()"
   ]
  },
  {
   "cell_type": "code",
   "execution_count": 14,
   "id": "2ed4a9e7",
   "metadata": {
    "scrolled": true
   },
   "outputs": [
    {
     "data": {
      "text/plain": [
       "NETS         2\n",
       "76ers        1\n",
       "Lakers       1\n",
       "Bucks        1\n",
       "Dallas       1\n",
       "Atlanta      1\n",
       "Bulls        1\n",
       "Grizzlies    1\n",
       "Nuggets      1\n",
       "Name: Equipa, dtype: int64"
      ]
     },
     "execution_count": 14,
     "metadata": {},
     "output_type": "execute_result"
    }
   ],
   "source": [
    "#Qual a equipa com mais jogadores no top 10 melhores jogadores?\n",
    "df.head(10)['Equipa'].value_counts()"
   ]
  },
  {
   "cell_type": "code",
   "execution_count": 15,
   "id": "48fe2797",
   "metadata": {},
   "outputs": [
    {
     "name": "stdout",
     "output_type": "stream",
     "text": [
      "A linha e o nome do jogador com mais arremessos convertidos são:  13    Stephen Curry\n",
      "Name: Jogador, dtype: object\n"
     ]
    }
   ],
   "source": [
    "mais_arremessosconvertidos= df['Arremessos de 3 pontos convertidos'].max()\n",
    "jogador_maisarremessosconvertidos = df.loc[(df['Arremessos de 3 pontos convertidos']== mais_arremessosconvertidos)]\n",
    "jogador_maisarremessosconvertidos\n",
    "\n",
    "                            \n",
    "print('A linha e o nome do jogador com mais arremessos convertidos são: ', jogador_maisarremessosconvertidos['Jogador'])"
   ]
  },
  {
   "cell_type": "code",
   "execution_count": 16,
   "id": "f6ad800b",
   "metadata": {},
   "outputs": [
    {
     "name": "stdout",
     "output_type": "stream",
     "text": [
      "A linha e nome do jogador com mais pontos são:  5    Trae Young\n",
      "Name: Jogador, dtype: object\n"
     ]
    }
   ],
   "source": [
    "mais_pontos= df['Pontos totais'].max()\n",
    "jogador_maispontos = df.loc[(df['Pontos totais']== mais_pontos)]\n",
    "jogador_maispontos\n",
    "\n",
    "                            \n",
    "print('A linha e nome do jogador com mais pontos são: ', jogador_maispontos['Jogador'])"
   ]
  },
  {
   "cell_type": "code",
   "execution_count": 17,
   "id": "4b3b2d32",
   "metadata": {},
   "outputs": [
    {
     "data": {
      "text/html": [
       "<div>\n",
       "<style scoped>\n",
       "    .dataframe tbody tr th:only-of-type {\n",
       "        vertical-align: middle;\n",
       "    }\n",
       "\n",
       "    .dataframe tbody tr th {\n",
       "        vertical-align: top;\n",
       "    }\n",
       "\n",
       "    .dataframe thead th {\n",
       "        text-align: right;\n",
       "    }\n",
       "</style>\n",
       "<table border=\"1\" class=\"dataframe\">\n",
       "  <thead>\n",
       "    <tr style=\"text-align: right;\">\n",
       "      <th></th>\n",
       "      <th>Posição</th>\n",
       "      <th>Jogador</th>\n",
       "      <th>Equipa</th>\n",
       "      <th>Partidas jogadas</th>\n",
       "      <th>Minutos por jogo</th>\n",
       "      <th>Pontos por jogo</th>\n",
       "      <th>Pontos totais</th>\n",
       "      <th>Cesta de Campo</th>\n",
       "      <th>Arremessos de 3 pontos convertidos</th>\n",
       "      <th>Turn overs</th>\n",
       "    </tr>\n",
       "  </thead>\n",
       "  <tbody>\n",
       "    <tr>\n",
       "      <th>35</th>\n",
       "      <td>36</td>\n",
       "      <td>Miles Bridges</td>\n",
       "      <td>Hornets</td>\n",
       "      <td>80</td>\n",
       "      <td>35.5</td>\n",
       "      <td>20.2</td>\n",
       "      <td>1613</td>\n",
       "      <td>596</td>\n",
       "      <td>154</td>\n",
       "      <td>150</td>\n",
       "    </tr>\n",
       "  </tbody>\n",
       "</table>\n",
       "</div>"
      ],
      "text/plain": [
       "    Posição        Jogador   Equipa  Partidas jogadas  Minutos por jogo  \\\n",
       "35       36  Miles Bridges  Hornets                80              35.5   \n",
       "\n",
       "    Pontos por jogo  Pontos totais  Cesta de Campo  \\\n",
       "35             20.2           1613             596   \n",
       "\n",
       "    Arremessos de 3 pontos convertidos  Turn overs  \n",
       "35                                 154         150  "
      ]
     },
     "execution_count": 17,
     "metadata": {},
     "output_type": "execute_result"
    }
   ],
   "source": [
    "#Jogadores com mais partidas jogadas\n",
    "mais_jogos = df['Partidas jogadas'].max()\n",
    "jogador_max = df.loc[(df['Partidas jogadas'] == mais_jogos)]\n",
    "jogador_max"
   ]
  },
  {
   "cell_type": "code",
   "execution_count": 18,
   "id": "d29ce11f",
   "metadata": {
    "scrolled": true
   },
   "outputs": [
    {
     "data": {
      "image/png": "[encoded data removed]",
      "text/plain": [
       "<Figure size 432x288 with 1 Axes>"
      ]
     },
     "metadata": {
      "needs_background": "light"
     },
     "output_type": "display_data"
    }
   ],
   "source": [
    "#%matplotlib notebook\n",
    "%matplotlib inline\n",
    "\n",
    "#neste gráfico vamos fazer uma relação entre os Jogadores e a média de pontos que estes fizeram ao longo da época\n",
    "#criar as variáveis que vão ser relacionadas: Jogador e Pontos\n",
    "\n",
    "Jogador = df ['Jogador'].head(10).tolist()\n",
    "Pontos = df ['Pontos por jogo'].head(10).tolist()\n",
    "\n",
    "#Criar o gráfico:\n",
    "#No eixo do x encontram-se os pontos, no eixo do y os jogadores, e escolhemos a cor vermelha para as barras\n",
    "plt.barh(Jogador, Pontos, color='red') \n",
    "plt.ylabel(\"Jogador\") #nome do eixo vertical, eixo do x\n",
    "plt.xlabel(\"Pontos por jogo\") #nome do eixo horizontal, eixo do y\n",
    "plt.title('Pontos por jogador') #título do gráfico\n",
    "plt.show()"
   ]
  },
  {
   "cell_type": "code",
   "execution_count": 19,
   "id": "403588f5",
   "metadata": {},
   "outputs": [
    {
     "data": {
      "image/png": "[encoded data removed]",
      "text/plain": [
       "<Figure size 432x288 with 1 Axes>"
      ]
     },
     "metadata": {
      "needs_background": "light"
     },
     "output_type": "display_data"
    }
   ],
   "source": [
    "#%matplotlib notebook\n",
    "%matplotlib inline\n",
    "\n",
    "#neste gráfico vamos fazer uma relação entre os Jogadores e a média de minutos que estes fizeram por jogo ao longo da época\n",
    "#criar as variáveis que vão ser relacionadas: Jogador e Minutos\n",
    "Jogador = df ['Jogador'].head(10).tolist()\n",
    "Minutos = df ['Minutos por jogo'].head(10).tolist()\n",
    "\n",
    "#Criar o gráfico:\n",
    "#No eixo do y encontram-se os jogadores, no eixo do x os minutos, e escolhemos a cor azul para as barras\n",
    "\n",
    "plt.barh(Jogador, Minutos, color='red')\n",
    "plt.ylabel(\"Jogador\") #nome do eixo vertical, eixo do x\n",
    "plt.xlabel(\"Minutos por jogo\") #nome do eixo horizontal, eixo do y\n",
    "plt.title('Média de minutos de jogo por cada jogador') #título do gráfico\n",
    "plt.show()"
   ]
  },
  {
   "cell_type": "code",
   "execution_count": 20,
   "id": "f5d58bdf",
   "metadata": {},
   "outputs": [
    {
     "data": {
      "image/png": "[encoded data removed]",
      "text/plain": [
       "<Figure size 432x288 with 1 Axes>"
      ]
     },
     "metadata": {
      "needs_background": "light"
     },
     "output_type": "display_data"
    }
   ],
   "source": [
    "#dados que vão ser estudados: tentativas de arremessos e os arremessos convertidos\n",
    "#relacionar as tentativas de arremessos com os arremessos convertidos dos 5 melhores jogadores\n",
    "jogador = df ['Jogador'].head().tolist()\n",
    "arremessos = df ['Arremessos de 3 pontos convertidos'].head().tolist()\n",
    "cesta = df ['Cesta de Campo'].head().tolist()\n",
    "\n",
    "x = np.arange(len(jogador))  #localizações dos jogadores no grafico\n",
    "largura = 0.30  #largura das barras\n",
    "\n",
    "#criar duas barras com valores diferentes\n",
    "fig, ax = plt.subplots()\n",
    "rects1 = ax.bar(x - largura/2, arremessos, largura, label='Arremessos de 3 pontos convertidos', color='blue') \n",
    "rects2 = ax.bar(x + largura/2, cesta, largura, label='Cesta de Campo', color='red')\n",
    "#x - largura/2 : coluna do lado esquerdo, que representa as tentativas de lançamentos.\n",
    "#x + largura/2 : coluna do lado direito, que representa os lançamentos convertidos\n",
    "ax.set_ylabel('Lançamentos')\n",
    "ax.set_title('Arremessos de 3 pontos convertidos vs Cesta de Campo')\n",
    "ax.set_xticks(x)\n",
    "ax.set_xticklabels(jogador)\n",
    "ax.legend()\n",
    "\n",
    "fig.tight_layout() #espaço entre nome dos jogadores no gráfico para não existir sobreposição\n",
    "\n",
    "plt.xticks(rotation='vertical')\n",
    "plt.show()"
   ]
  },
  {
   "cell_type": "code",
   "execution_count": 21,
   "id": "05061e14",
   "metadata": {},
   "outputs": [
    {
     "data": {
      "image/png": "[encoded data removed]",
      "text/plain": [
       "<Figure size 432x288 with 1 Axes>"
      ]
     },
     "metadata": {
      "needs_background": "light"
     },
     "output_type": "display_data"
    }
   ],
   "source": [
    "#objetivo deste gráfico: podermos comparar os resultados do melhor e do pior jogador do top 50 \n",
    "#vamos comparar usando vários dados:\n",
    "    ##número de partidas jogadas\n",
    "    ##média do minutos que fez por jogo\n",
    "    #média de pontos por jogo\n",
    "    ##cesta de campo\n",
    "    ##Arremessos de 3 pontos convertidos\n",
    "    ##LTurn overs\n",
    "    \n",
    "labels = ['Partidas jogadas','Minutos por jogo', 'Pontos por jogo', 'Cesta de Campo', 'Arremessos de 3 pontos convertidos','Turn overs']\n",
    "\n",
    "#dados usados para comparação, extraídos da tabela\n",
    "Joel_Embiid = [68, 33.8, 30.6, 666, 93, 214]\n",
    "Gary_Trent_jr = [70, 35, 18.3, 450, 209, 73]\n",
    "largura = 0.35 #largura das barras\n",
    "fig, ax = plt.subplots()\n",
    "\n",
    "#Criação das barras correspondentes aos valores dos jogadores\n",
    "ax.bar(labels, Joel_Embiid, largura, label= 'Joel Embiid', color='blue')\n",
    "ax.bar(labels, Gary_Trent_jr, largura, label= 'Gary Trent Jr', color='red')\n",
    "\n",
    "ax.set_ylabel('')\n",
    "ax.set_title('Comparação do top 1 com top 50')\n",
    "ax.legend()\n",
    "plt.xticks(rotation='vertical')  #colocar o nome dos dados que estamos a comparar na vertical, para tornar mais percetivel a leitura do gráfico\n",
    "plt.show()"
   ]
  }
 ],
 "metadata": {
  "kernelspec": {
   "display_name": "Python 3 (ipykernel)",
   "language": "python",
   "name": "python3"
  },
  "language_info": {
   "codemirror_mode": {
    "name": "ipython",
    "version": 3
   },
   "file_extension": ".py",
   "mimetype": "text/x-python",
   "name": "python",
   "nbconvert_exporter": "python",
   "pygments_lexer": "ipython3",
   "version": "3.9.7"
  }
 },
 "nbformat": 4,
 "nbformat_minor": 5
}
